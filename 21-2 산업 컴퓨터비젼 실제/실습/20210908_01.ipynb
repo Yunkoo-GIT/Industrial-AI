{
  "nbformat": 4,
  "nbformat_minor": 0,
  "metadata": {
    "colab": {
      "name": "20210908-01",
      "provenance": [],
      "authorship_tag": "ABX9TyNJX97v0Yh/tiEAq5BZRtBp",
      "include_colab_link": true
    },
    "kernelspec": {
      "name": "python3",
      "display_name": "Python 3"
    },
    "language_info": {
      "name": "python"
    }
  },
  "cells": [
    {
      "cell_type": "markdown",
      "metadata": {
        "id": "view-in-github",
        "colab_type": "text"
      },
      "source": [
        "<a href=\"https://colab.research.google.com/github/Yunkoo-GIT/Programming/blob/main/20210908_01.ipynb\" target=\"_parent\"><img src=\"https://colab.research.google.com/assets/colab-badge.svg\" alt=\"Open In Colab\"/></a>"
      ]
    },
    {
      "cell_type": "code",
      "metadata": {
        "id": "eqfZTY26TA4_"
      },
      "source": [
        "import argparse\n",
        "\n",
        "import cv2\n",
        "\n",
        "parser = argparse.ArgumentParser()\n",
        "parser.add_argument('--path', default='../data/Lena.png', help='Image path.')\n",
        "params = parser.parse_args()\n",
        "\n",
        "img = cv2.imread(params.path)\n",
        "\n",
        "# Check if image was successfully read.\n",
        "assert img is not None\n",
        "\n",
        "print('read {}'.format(params.path))\n",
        "print('shape:', img.shape)\n",
        "print('dtype:', img.dtype)\n",
        "\n",
        "img = cv2.imread(params.path, cv2.IMREAD_GRAYSCALE)\n",
        "assert img is not None\n",
        "print('read {} as grayscale'.format(params.path))\n",
        "print('shape:', img.shape)\n",
        "print('dtype:', img.dtype)\n"
      ],
      "execution_count": null,
      "outputs": []
    },
    {
      "cell_type": "markdown",
      "metadata": {
        "id": "fLRk2LGurZ_d"
      },
      "source": [
        "![image.png](data:image/png;base64,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)"
      ]
    }
  ]
}